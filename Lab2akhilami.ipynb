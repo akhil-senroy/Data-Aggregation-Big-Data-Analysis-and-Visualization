{
 "cells": [
  {
   "cell_type": "code",
   "execution_count": 41,
   "metadata": {},
   "outputs": [],
   "source": [
    "import tweepy\n",
    "import csv \n",
    "from nytimesarticle import articleAPI\n",
    "from bs4 import BeautifulSoup\n",
    "import requests\n",
    "\n",
    "ConsumerKey = \"7nOjD4MCGqdpwvfgdGNs65m22\"\n",
    "ConsumerSecret = \"wpEO61KmNh3ddYfhULFsd2cdT8sFjYN6zlyQasCCqIzUIXl4OK\"\n",
    "AccessKey = \"464870798-75FP4gx8AO6Bil2Gk31Ds1x79BUlVFJVc6FQq0OO\"\n",
    "AccessSecret = \"vQXhHdINSjYEALuItjDuiDGuBkCWy7z6zSmzgUGlzDSKL\"\n",
    "auth = tweepy.OAuthHandler(ConsumerKey,ConsumerSecret)\n",
    "auth.set_access_token(AccessKey,AccessSecret)\n",
    "api = tweepy.API(auth)\n",
    "\n",
    "nytapi = articleAPI('AJBvphX6dlpTN9T54u1XkAbg9cUjxA0r')"
   ]
  },
  {
   "cell_type": "code",
   "execution_count": null,
   "metadata": {},
   "outputs": [],
   "source": [
    "csvFile = open('tweetsnew.csv', 'a')\n",
    "csvWriter = csv.writer(csvFile)\n",
    "\n",
    "\n",
    "for tweet in tweepy.Cursor(api.search,q=\"#music\",\\\n",
    "                           lang=\"en\",\\\n",
    "                           since_id=2019-1-1).items():\n",
    "    if not tweet.retweeted:\n",
    "        print(tweet.created_at, tweet.text)\n",
    "        csvWriter.writerow([tweet.created_at, tweet.text.encode('utf-8')])\n"
   ]
  },
  {
   "cell_type": "code",
   "execution_count": null,
   "metadata": {
    "scrolled": true
   },
   "outputs": [],
   "source": [
    "articles = nytapi.search(q='music',begin_date = 20190101,page=100)\n",
    "print(len(articles['response']['docs'][i]['web_url']))\n",
    "#https://www.dataquest.io/blog/web-scraping-tutorial-python/\n",
    "f = open('nytimesdata.txt','w')\n",
    "for i in range(1):\n",
    "    url = articles['response']['docs'][i]['web_url']\n",
    "    data = requests.get(url)\n",
    "    #https://www.pythonforbeginners.com/beautifulsoup/beautifulsoup-4-python\n",
    "    soup = BeautifulSoup(data.content, 'html.parser')\n",
    "    prettySoup=soup.prettify()\n",
    "    for i in range((len(soup.find_all('p')))-3):\n",
    "        f.write(soup.find_all('p')[i].get_text())\n",
    "    print(url)\n",
    "    links.append(url)\n",
    "f.close()\n",
    "        "
   ]
  }
 ],
 "metadata": {
  "kernelspec": {
   "display_name": "Python 3",
   "language": "python",
   "name": "python3"
  },
  "language_info": {
   "codemirror_mode": {
    "name": "ipython",
    "version": 3
   },
   "file_extension": ".py",
   "mimetype": "text/x-python",
   "name": "python",
   "nbconvert_exporter": "python",
   "pygments_lexer": "ipython3",
   "version": "3.7.1"
  }
 },
 "nbformat": 4,
 "nbformat_minor": 2
}
