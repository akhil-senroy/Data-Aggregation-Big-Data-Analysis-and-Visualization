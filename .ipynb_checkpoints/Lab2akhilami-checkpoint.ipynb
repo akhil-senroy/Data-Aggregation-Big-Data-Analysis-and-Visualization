{
 "cells": [
  {
   "cell_type": "code",
   "execution_count": 1,
   "metadata": {},
   "outputs": [],
   "source": [
    "import tweepy\n",
    "import csv \n",
    "from nytimesarticle import articleAPI\n",
    "from bs4 import BeautifulSoup\n",
    "import requests\n",
    "\n",
    "ConsumerKey = \"7nOjD4MCGqdpwvfgdGNs65m22\"\n",
    "ConsumerSecret = \"wpEO61KmNh3ddYfhULFsd2cdT8sFjYN6zlyQasCCqIzUIXl4OK\"\n",
    "AccessKey = \"464870798-75FP4gx8AO6Bil2Gk31Ds1x79BUlVFJVc6FQq0OO\"\n",
    "AccessSecret = \"vQXhHdINSjYEALuItjDuiDGuBkCWy7z6zSmzgUGlzDSKL\"\n",
    "auth = tweepy.OAuthHandler(ConsumerKey,ConsumerSecret)\n",
    "auth.set_access_token(AccessKey,AccessSecret)\n",
    "api = tweepy.API(auth)\n",
    "\n",
    "nytapi = articleAPI('AJBvphX6dlpTN9T54u1XkAbg9cUjxA0r')"
   ]
  },
  {
   "cell_type": "code",
   "execution_count": null,
   "metadata": {
    "scrolled": true
   },
   "outputs": [],
   "source": [
    "csvFile = open('data/tw/sample/tworchestra.csv', 'a')\n",
    "csvWriter = csv.writer(csvFile)\n",
    "\n",
    "\n",
    "for tweet in tweepy.Cursor(api.search,q=\"#orchestra\",\\\n",
    "                           lang=\"en\",\\\n",
    "                           since_id=2019-1-1).items():\n",
    "    if not tweet.retweeted:\n",
    "        print(tweet.created_at, tweet.text)\n",
    "        csvWriter.writerow([tweet.created_at, tweet.text.encode('utf-8')])\n"
   ]
  },
  {
   "cell_type": "code",
   "execution_count": null,
   "metadata": {},
   "outputs": [],
   "source": [
    "import pandas as pd\n",
    "colnames = ['date', 'tweets']\n",
    "data = pd.read_csv('data/tw/sample/tworchestra.csv', names=colnames,index_col=False)\n",
    "col = data['tweets']\n",
    "txt = col.to_string()\n",
    "txt_file = open('data/tw/sample/tworchestra.txt','a')\n",
    "txt_file.write(txt)\n",
    "txt_file.close()\n",
    "# saved_column = df.column_name"
   ]
  },
  {
   "cell_type": "code",
   "execution_count": null,
   "metadata": {
    "scrolled": true
   },
   "outputs": [],
   "source": [
    "articles = nytapi.search(q='violin',begin_date = 20190101)\n",
    "# print(len(articles['response']['docs'][i]['web_url']))\n",
    "#https://www.dataquest.io/blog/web-scraping-tutorial-python/\n",
    "f = open('data/nyt/sample/nytviolin.txt','w')\n",
    "for i in range(10):\n",
    "    url = articles['response']['docs'][i]['web_url']\n",
    "    data = requests.get(url)\n",
    "    #https://www.pythonforbeginners.com/beautifulsoup/beautifulsoup-4-python\n",
    "    soup = BeautifulSoup(data.content, 'html.parser')\n",
    "    prettySoup=soup.prettify()\n",
    "    for i in range((len(soup.find_all('p')))-3):\n",
    "        f.write(soup.find_all('p')[i].get_text())\n",
    "    print(url)\n",
    "#     links.append(url)\n",
    "f.close()\n",
    "        "
   ]
  },
  {
   "cell_type": "code",
   "execution_count": null,
   "metadata": {},
   "outputs": [],
   "source": [
    "from nltk.tokenize import word_tokenize\n",
    "from nltk.corpus import stopwords\n",
    "from nltk.stem.porter import PorterStemmer\n",
    "stopwords=set(stopwords.words('english'))\n",
    "\n",
    "file=open(\"data/nyt/sample/nytorchestra.txt\", 'rt')\n",
    "textfile=file.read()\n",
    "file.close()\n",
    "\n",
    "\n",
    "words=word_tokenize(textfile)\n",
    "\n",
    "# include only words no numerical or special character\n",
    "words_rem_punct=[word for word in words if word.isalpha()]\n",
    "\n",
    "# removing all the stop words \n",
    "meaningful_words=[x for x in words_rem_punct if not x in stopwords]\n",
    "meaningful_words[:10]\n",
    "\n",
    "#removing words with only one character since they will add any meaning to the data\n",
    "meaningful_words=[z for z in meaningful_words if not len(z)==1]\n",
    "# meaningful_words[:10]\n",
    "\n",
    "# stemming of the data(removing words that convey the same meaning)\n",
    "stemmer=PorterStemmer()\n",
    "stemmed_words=[stemmer.stem(words) for words in meaningful_words]\n",
    "# print(stemmed_words)\n",
    "new_file = open('data/nyt/sample/clean_nytorchestra.txt','a')\n",
    "for words in stemmed_words :\n",
    "    new_file.write(words)\n",
    "    new_file.write(\" \")\n",
    "new_file.close()"
   ]
  },
  {
   "cell_type": "code",
   "execution_count": null,
   "metadata": {},
   "outputs": [],
   "source": []
  },
  {
   "cell_type": "code",
   "execution_count": null,
   "metadata": {},
   "outputs": [],
   "source": [
    "# https://stackoverflow.com/questions/17749058/combine-multiple-text-files-into-one-text-file-using-python\n",
    "import glob\n",
    "\n",
    "read_files = glob.glob(\"data/nyt/output/part-*\")\n",
    "\n",
    "with open(\"data/nyt/combined_output.txt\", \"wb\") as outfile:\n",
    "    for f in read_files:\n",
    "        with open(f, \"rb\") as infile:\n",
    "            outfile.write(infile.read())"
   ]
  },
  {
   "cell_type": "code",
   "execution_count": null,
   "metadata": {},
   "outputs": [],
   "source": [
    "import pandas as pd\n",
    "data = pd.read_csv('data/nyt/combined_output.txt', sep=\"\\t\", header=None)\n",
    "data.to_csv('data/nyt/combined_output.csv', sep=',')"
   ]
  },
  {
   "cell_type": "code",
   "execution_count": null,
   "metadata": {},
   "outputs": [],
   "source": []
  },
  {
   "cell_type": "code",
   "execution_count": 254,
   "metadata": {},
   "outputs": [],
   "source": [
    "import csv\n",
    "\n",
    "with open('data/nyt/combined_output.csv', mode='rt') as f, open('test.csv', 'w') as final:\n",
    "    writer = csv.writer(final)\n",
    "    reader = csv.reader(f)\n",
    "    _ = next(reader)\n",
    "    sortedlist = sorted(reader, key=lambda row: int(row[2]),reverse=True)\n",
    "    for row in sortedlist:\n",
    "        writer.writerow(row)\n",
    "        \n"
   ]
  },
  {
   "cell_type": "code",
   "execution_count": null,
   "metadata": {},
   "outputs": [],
   "source": []
  },
  {
   "cell_type": "code",
   "execution_count": null,
   "metadata": {},
   "outputs": [],
   "source": []
  },
  {
   "cell_type": "code",
   "execution_count": null,
   "metadata": {},
   "outputs": [],
   "source": []
  },
  {
   "cell_type": "markdown",
   "metadata": {},
   "source": [
    "<br><br><br><br><br><br><br><br><br><br><br><br><br><br><br> \n",
    "## NEW !!!"
   ]
  },
  {
   "cell_type": "code",
   "execution_count": null,
   "metadata": {},
   "outputs": [],
   "source": []
  },
  {
   "cell_type": "code",
   "execution_count": null,
   "metadata": {},
   "outputs": [],
   "source": []
  },
  {
   "cell_type": "code",
   "execution_count": null,
   "metadata": {},
   "outputs": [],
   "source": []
  },
  {
   "cell_type": "code",
   "execution_count": null,
   "metadata": {},
   "outputs": [],
   "source": []
  },
  {
   "cell_type": "code",
   "execution_count": null,
   "metadata": {},
   "outputs": [],
   "source": []
  },
  {
   "cell_type": "code",
   "execution_count": null,
   "metadata": {},
   "outputs": [],
   "source": []
  },
  {
   "cell_type": "code",
   "execution_count": 6,
   "metadata": {},
   "outputs": [
    {
     "name": "stdout",
     "output_type": "stream",
     "text": [
      "['How\\t1\\n', 'much\\t1\\n', 'wood\\t1\\n', 'would\\t1\\n', 'a\\t1\\n', 'woodchuck\\t1\\n', 'chuck\\t1\\n', 'if\\t1\\n', 'a\\t1\\n', 'woodchuck\\t1\\n', 'could\\t1\\n', 'chuck\\t1\\n', 'wood\\t1\\n']\n"
     ]
    }
   ],
   "source": [
    "#http://www.science.smith.edu/dftwiki/index.php/Hadoop_Tutorial_2_--_Running_WordCount_in_Python\n",
    "#import sys\n",
    "#for line in sys.stdin:\n",
    "\n",
    "line = \" How much wood would a woodchuck chuck if a woodchuck could chuck wood \"\n",
    "#--- split the line into words ---\n",
    "words = line.strip().split()\n",
    "i=0\n",
    "data=[\"\" for i in range(len(words))]\n",
    "f=open('mapperTrial.txt','w')\n",
    "    #--- output tuples [word, 1] in tab-delimited format---\n",
    "for word in words: \n",
    "#     print('%s\\t%s' % (word, \"1\"))\n",
    "    w = word+\"\\t1\\n\"\n",
    "    data[i]=w\n",
    "    i+=1\n",
    "    f.write(w)\n",
    "#     print(w.strip())\n",
    "f.close()\n",
    "    \n",
    "    \n",
    "print(data)"
   ]
  },
  {
   "cell_type": "code",
   "execution_count": 9,
   "metadata": {},
   "outputs": [
    {
     "name": "stdout",
     "output_type": "stream",
     "text": [
      "How\t1\n",
      "much\t1\n",
      "wood\t2\n",
      "would\t1\n",
      "a\t2\n",
      "woodchuck\t2\n",
      "chuck\t2\n",
      "if\t1\n",
      "could\t1\n",
      "[('woodchuck', 2), ('wood', 2), ('chuck', 2), ('a', 2), ('would', 1), ('much', 1), ('if', 1), ('could', 1), ('How', 1)]\n"
     ]
    }
   ],
   "source": [
    "import sys\n",
    " \n",
    "# maps words to their counts\n",
    "word2count = {}\n",
    " \n",
    "# input comes from STDIN\n",
    "for line in data:\n",
    "    # remove leading and trailing whitespace\n",
    "    line = line.strip()\n",
    " \n",
    "    # parse the input we got from mapper.py\n",
    "    word, count = line.split('\\t', 1)\n",
    "    # convert count (currently a string) to int\n",
    "    try:\n",
    "        count = int(count)\n",
    "    except ValueError:\n",
    "        continue\n",
    "\n",
    "    try:\n",
    "        word2count[word] = word2count[word]+count\n",
    "    except:\n",
    "        word2count[word] = count\n",
    " \n",
    " # write the tuples to stdout\n",
    " # Note: they are unsorted\n",
    "for word in word2count.keys():\n",
    "    print('%s\\t%s'% ( word, word2count[word] ))\n",
    "    \n",
    "print(sorted(word2count.items(), key = \n",
    "             lambda kv:(kv[1], kv[0]),reverse=True))"
   ]
  },
  {
   "cell_type": "code",
   "execution_count": null,
   "metadata": {},
   "outputs": [],
   "source": [
    "topic - music\n",
    "subtopic - \n",
    "guitar\n",
    "piano\n",
    "\n",
    "violin\n",
    "singer\n",
    "orchestra\n"
   ]
  },
  {
   "cell_type": "code",
   "execution_count": 4,
   "metadata": {},
   "outputs": [
    {
     "name": "stdout",
     "output_type": "stream",
     "text": [
      "{'ad': 0}\n"
     ]
    }
   ],
   "source": [
    "a = {}\n",
    "q=\"ad\"\n",
    "w=\"rg\"\n",
    "a[q]=0\n",
    "print(a)"
   ]
  },
  {
   "cell_type": "code",
   "execution_count": null,
   "metadata": {},
   "outputs": [],
   "source": []
  },
  {
   "cell_type": "code",
   "execution_count": 2,
   "metadata": {},
   "outputs": [
    {
     "ename": "KeyboardInterrupt",
     "evalue": "",
     "output_type": "error",
     "traceback": [
      "\u001b[0;31m---------------------------------------------------------------------------\u001b[0m",
      "\u001b[0;31mKeyError\u001b[0m                                  Traceback (most recent call last)",
      "\u001b[0;32m<ipython-input-2-85092393692a>\u001b[0m in \u001b[0;36m<module>\u001b[0;34m\u001b[0m\n\u001b[1;32m     11\u001b[0m             \u001b[0;32mtry\u001b[0m\u001b[0;34m:\u001b[0m\u001b[0;34m\u001b[0m\u001b[0;34m\u001b[0m\u001b[0m\n\u001b[0;32m---> 12\u001b[0;31m                 \u001b[0murl\u001b[0m \u001b[0;34m=\u001b[0m \u001b[0marticles\u001b[0m\u001b[0;34m[\u001b[0m\u001b[0;34m'response'\u001b[0m\u001b[0;34m]\u001b[0m\u001b[0;34m[\u001b[0m\u001b[0;34m'docs'\u001b[0m\u001b[0;34m]\u001b[0m\u001b[0;34m[\u001b[0m\u001b[0mi\u001b[0m\u001b[0;34m]\u001b[0m\u001b[0;34m[\u001b[0m\u001b[0;34m'web_url'\u001b[0m\u001b[0;34m]\u001b[0m\u001b[0;34m\u001b[0m\u001b[0;34m\u001b[0m\u001b[0m\n\u001b[0m\u001b[1;32m     13\u001b[0m                 \u001b[0mlinksSet\u001b[0m\u001b[0;34m.\u001b[0m\u001b[0madd\u001b[0m\u001b[0;34m(\u001b[0m\u001b[0murl\u001b[0m\u001b[0;34m)\u001b[0m\u001b[0;34m\u001b[0m\u001b[0;34m\u001b[0m\u001b[0m\n",
      "\u001b[0;31mKeyError\u001b[0m: 'response'",
      "\nDuring handling of the above exception, another exception occurred:\n",
      "\u001b[0;31mKeyboardInterrupt\u001b[0m                         Traceback (most recent call last)",
      "\u001b[0;32m<ipython-input-2-85092393692a>\u001b[0m in \u001b[0;36m<module>\u001b[0;34m\u001b[0m\n\u001b[1;32m     10\u001b[0m         \u001b[0;32mwhile\u001b[0m \u001b[0mi\u001b[0m\u001b[0;34m<\u001b[0m\u001b[0;36m1\u001b[0m\u001b[0;34m:\u001b[0m\u001b[0;34m\u001b[0m\u001b[0;34m\u001b[0m\u001b[0m\n\u001b[1;32m     11\u001b[0m             \u001b[0;32mtry\u001b[0m\u001b[0;34m:\u001b[0m\u001b[0;34m\u001b[0m\u001b[0;34m\u001b[0m\u001b[0m\n\u001b[0;32m---> 12\u001b[0;31m                 \u001b[0murl\u001b[0m \u001b[0;34m=\u001b[0m \u001b[0marticles\u001b[0m\u001b[0;34m[\u001b[0m\u001b[0;34m'response'\u001b[0m\u001b[0;34m]\u001b[0m\u001b[0;34m[\u001b[0m\u001b[0;34m'docs'\u001b[0m\u001b[0;34m]\u001b[0m\u001b[0;34m[\u001b[0m\u001b[0mi\u001b[0m\u001b[0;34m]\u001b[0m\u001b[0;34m[\u001b[0m\u001b[0;34m'web_url'\u001b[0m\u001b[0;34m]\u001b[0m\u001b[0;34m\u001b[0m\u001b[0;34m\u001b[0m\u001b[0m\n\u001b[0m\u001b[1;32m     13\u001b[0m                 \u001b[0mlinksSet\u001b[0m\u001b[0;34m.\u001b[0m\u001b[0madd\u001b[0m\u001b[0;34m(\u001b[0m\u001b[0murl\u001b[0m\u001b[0;34m)\u001b[0m\u001b[0;34m\u001b[0m\u001b[0;34m\u001b[0m\u001b[0m\n\u001b[1;32m     14\u001b[0m                 \u001b[0mi\u001b[0m\u001b[0;34m+=\u001b[0m\u001b[0;36m1\u001b[0m\u001b[0;34m\u001b[0m\u001b[0;34m\u001b[0m\u001b[0m\n",
      "\u001b[0;31mKeyboardInterrupt\u001b[0m: "
     ]
    }
   ],
   "source": [
    "import time\n",
    "topics = [\"music\",\"songs\",\"guitar\",\"violin\",\"piano\"]\n",
    "# ,\"singer\",\"orchestra\"]\n",
    "linksSet={\"\"}\n",
    "j=0\n",
    "for topic in topics:\n",
    "    for j in range(1):\n",
    "        articles = nytapi.search(q=topic,begin_date = 20190101,page=str(j))\n",
    "        i=0\n",
    "        while i<1:\n",
    "            try:\n",
    "                url = articles['response']['docs'][i]['web_url']\n",
    "                linksSet.add(url)\n",
    "                i+=1\n",
    "            except KeyError:\n",
    "                continue\n",
    "#             time.sleep(6)\n",
    "    print(topic)\n",
    "    \n",
    "            \n"
   ]
  },
  {
   "cell_type": "code",
   "execution_count": null,
   "metadata": {},
   "outputs": [],
   "source": [
    "print(len(linksSet))\n",
    "print(linksSet)\n",
    "print(j)"
   ]
  },
  {
   "cell_type": "code",
   "execution_count": null,
   "metadata": {},
   "outputs": [],
   "source": [
    "articles = nytapi.search(q='violin',begin_date = 20190101)\n",
    "# print(len(articles['response']['docs'][i]['web_url']))\n",
    "#https://www.dataquest.io/blog/web-scraping-tutorial-python/\n",
    "\n",
    "    f = open('data/nyt/sample/nytviolin.txt','w')\n",
    "    for i in range(10):\n",
    "        url = articles['response']['docs'][i]['web_url']\n",
    "        data = requests.get(url)\n",
    "        #https://www.pythonforbeginners.com/beautifulsoup/beautifulsoup-4-python\n",
    "        soup = BeautifulSoup(data.content, 'html.parser')\n",
    "        prettySoup=soup.prettify()\n",
    "        for i in range((len(soup.find_all('p')))-3):\n",
    "            f.write(soup.find_all('p')[i].get_text())\n",
    "        print(url)\n",
    "    #     links.append(url)\n",
    "    f.close()"
   ]
  },
  {
   "cell_type": "code",
   "execution_count": null,
   "metadata": {},
   "outputs": [],
   "source": []
  },
  {
   "cell_type": "code",
   "execution_count": null,
   "metadata": {},
   "outputs": [],
   "source": []
  },
  {
   "cell_type": "code",
   "execution_count": 167,
   "metadata": {},
   "outputs": [
    {
     "name": "stdout",
     "output_type": "stream",
     "text": [
      "{'apple', 'cherry', 'banana', 'orange', 'orang'}\n"
     ]
    }
   ],
   "source": [
    "thisset = {\"apple\", \"banana\", \"cherry\"}\n",
    "\n",
    "thisset.add(\"orange\")\n",
    "\n",
    "thisset.add(\"orange\")\n",
    "thisset.add(\"orange\")\n",
    "\n",
    "thisset.add(\"orang\")\n",
    "\n",
    "\n",
    "\n",
    "\n",
    "print(thisset)"
   ]
  },
  {
   "cell_type": "code",
   "execution_count": 253,
   "metadata": {},
   "outputs": [
    {
     "name": "stdout",
     "output_type": "stream",
     "text": [
      "[67, 23, 9, 7, 7, 7, 6, 6, 3, 3, 2, 2, 2, 1]\n"
     ]
    }
   ],
   "source": [
    "a = [1,6,2,7,2,9,6,3,67,2,7,23,7,3]\n",
    "sortedlist = sorted(a,reverse=True)\n",
    "print(sortedlist)\n",
    "\n",
    "a=[[\"sdf\",2],[\"sff\",3],[\"sf\",1],[\"df\",6]]\n",
    "\n",
    "sortedlist = sorted(a, key=lambda row: int(row[1]),reverse=True)\n",
    "\n",
    "print(sortedlist)\n",
    "\n"
   ]
  },
  {
   "cell_type": "code",
   "execution_count": null,
   "metadata": {},
   "outputs": [],
   "source": []
  }
 ],
 "metadata": {
  "kernelspec": {
   "display_name": "Python 3",
   "language": "python",
   "name": "python3"
  },
  "language_info": {
   "codemirror_mode": {
    "name": "ipython",
    "version": 3
   },
   "file_extension": ".py",
   "mimetype": "text/x-python",
   "name": "python",
   "nbconvert_exporter": "python",
   "pygments_lexer": "ipython3",
   "version": "3.7.1"
  }
 },
 "nbformat": 4,
 "nbformat_minor": 2
}
